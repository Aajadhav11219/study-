{
 "cells": [
  {
   "cell_type": "markdown",
   "id": "7f0d9642-ad7f-477b-a218-6764560586f8",
   "metadata": {},
   "source": [
    "# first numpy"
   ]
  },
  {
   "cell_type": "code",
   "execution_count": 2,
   "id": "8d206860-d682-4841-9d66-adcb46813a55",
   "metadata": {},
   "outputs": [],
   "source": [
    "import numpy as np"
   ]
  },
  {
   "cell_type": "code",
   "execution_count": 4,
   "id": "24eaa98f-f105-495f-ad92-3c06142c1ab3",
   "metadata": {},
   "outputs": [
    {
     "name": "stdout",
     "output_type": "stream",
     "text": [
      "hello world\n"
     ]
    }
   ],
   "source": [
    "print (\"hello world\")"
   ]
  },
  {
   "cell_type": "code",
   "execution_count": 16,
   "id": "e267831c-9be0-4a64-b4f5-5783a6742072",
   "metadata": {},
   "outputs": [],
   "source": [
    "myarr = np. array([[3,6,9,19]], np.int64)"
   ]
  },
  {
   "cell_type": "code",
   "execution_count": 18,
   "id": "4a7a71f8-456a-4d3b-a826-19910985cf5a",
   "metadata": {},
   "outputs": [
    {
     "data": {
      "text/plain": [
       "6"
      ]
     },
     "execution_count": 18,
     "metadata": {},
     "output_type": "execute_result"
    }
   ],
   "source": [
    "myarr[0,1]"
   ]
  },
  {
   "cell_type": "code",
   "execution_count": 20,
   "id": "5daad242-b3a0-412f-a09d-aa83b42937e1",
   "metadata": {},
   "outputs": [
    {
     "data": {
      "text/plain": [
       "19"
      ]
     },
     "execution_count": 20,
     "metadata": {},
     "output_type": "execute_result"
    }
   ],
   "source": [
    "myarr[0,3]"
   ]
  },
  {
   "cell_type": "code",
   "execution_count": 27,
   "id": "c429a073-0af4-48d3-9140-08d51698953f",
   "metadata": {},
   "outputs": [],
   "source": [
    "myarr[0,1]=99"
   ]
  },
  {
   "cell_type": "code",
   "execution_count": 29,
   "id": "ffd23271-e308-4adf-801b-805fc6675a2e",
   "metadata": {},
   "outputs": [
    {
     "data": {
      "text/plain": [
       "array([[ 3, 99,  9, 19]], dtype=int64)"
      ]
     },
     "execution_count": 29,
     "metadata": {},
     "output_type": "execute_result"
    }
   ],
   "source": [
    "myarr"
   ]
  },
  {
   "cell_type": "code",
   "execution_count": 33,
   "id": "d15d1158-20ed-4d44-85ea-f05a83132243",
   "metadata": {},
   "outputs": [],
   "source": [
    "myarr[0,2]=45"
   ]
  },
  {
   "cell_type": "code",
   "execution_count": 35,
   "id": "79c8968f-f1b9-4526-ac99-2d1013611631",
   "metadata": {},
   "outputs": [
    {
     "data": {
      "text/plain": [
       "array([[ 3, 99, 45, 19]], dtype=int64)"
      ]
     },
     "execution_count": 35,
     "metadata": {},
     "output_type": "execute_result"
    }
   ],
   "source": [
    "myarr"
   ]
  },
  {
   "cell_type": "markdown",
   "id": "bac4983b-f3a6-42ef-a7da-cefef3ed04ac",
   "metadata": {},
   "source": [
    "# array creation"
   ]
  },
  {
   "cell_type": "code",
   "execution_count": 45,
   "id": "6cfd1ae2-7e23-4a1c-ab88-6b2492976598",
   "metadata": {},
   "outputs": [],
   "source": [
    "listarray = np.array([[1,2,3], [4,5,6], [1,8,9]])"
   ]
  },
  {
   "cell_type": "code",
   "execution_count": 47,
   "id": "4ca6d2c9-9698-4591-8fa0-74bbceeffd61",
   "metadata": {},
   "outputs": [
    {
     "data": {
      "text/plain": [
       "array([[1, 2, 3],\n",
       "       [4, 5, 6],\n",
       "       [1, 8, 9]])"
      ]
     },
     "execution_count": 47,
     "metadata": {},
     "output_type": "execute_result"
    }
   ],
   "source": [
    "listarray"
   ]
  },
  {
   "cell_type": "code",
   "execution_count": 49,
   "id": "13db4ae0-b573-4211-a981-3a7a20b9aeee",
   "metadata": {},
   "outputs": [
    {
     "data": {
      "text/plain": [
       "dtype('int32')"
      ]
     },
     "execution_count": 49,
     "metadata": {},
     "output_type": "execute_result"
    }
   ],
   "source": [
    "listarray.dtype"
   ]
  },
  {
   "cell_type": "code",
   "execution_count": 51,
   "id": "e6e4e244-5419-410f-8335-90e60048c72d",
   "metadata": {},
   "outputs": [
    {
     "data": {
      "text/plain": [
       "(3, 3)"
      ]
     },
     "execution_count": 51,
     "metadata": {},
     "output_type": "execute_result"
    }
   ],
   "source": [
    "listarray.shape"
   ]
  },
  {
   "cell_type": "code",
   "execution_count": 53,
   "id": "6f62daab-c0e3-449f-8d03-706dbc37009f",
   "metadata": {},
   "outputs": [
    {
     "data": {
      "text/plain": [
       "9"
      ]
     },
     "execution_count": 53,
     "metadata": {},
     "output_type": "execute_result"
    }
   ],
   "source": [
    "listarray.size"
   ]
  },
  {
   "cell_type": "code",
   "execution_count": 65,
   "id": "cdb2a18f-8e94-42a8-ae9d-8302dac0fbac",
   "metadata": {},
   "outputs": [],
   "source": [
    "zeros = np.zeros((3,5))"
   ]
  },
  {
   "cell_type": "code",
   "execution_count": 67,
   "id": "3c8bd0c3-d33a-485d-8ea4-0ea2c94e87ec",
   "metadata": {},
   "outputs": [
    {
     "data": {
      "text/plain": [
       "array([[0., 0., 0., 0., 0.],\n",
       "       [0., 0., 0., 0., 0.],\n",
       "       [0., 0., 0., 0., 0.]])"
      ]
     },
     "execution_count": 67,
     "metadata": {},
     "output_type": "execute_result"
    }
   ],
   "source": [
    "zeros"
   ]
  },
  {
   "cell_type": "code",
   "execution_count": 77,
   "id": "0f9f24dd-ef52-4ef0-93f9-ed63646ed014",
   "metadata": {},
   "outputs": [],
   "source": [
    "rng = np.arange(9)"
   ]
  },
  {
   "cell_type": "code",
   "execution_count": 79,
   "id": "308b3e9a-f488-45a0-9f35-4191abae6714",
   "metadata": {},
   "outputs": [
    {
     "data": {
      "text/plain": [
       "array([0, 1, 2, 3, 4, 5, 6, 7, 8])"
      ]
     },
     "execution_count": 79,
     "metadata": {},
     "output_type": "execute_result"
    }
   ],
   "source": [
    "rng"
   ]
  },
  {
   "cell_type": "code",
   "execution_count": 81,
   "id": "9c369eed-a33b-4bcc-ae16-7d2b354c32c2",
   "metadata": {},
   "outputs": [
    {
     "data": {
      "text/plain": [
       "(9,)"
      ]
     },
     "execution_count": 81,
     "metadata": {},
     "output_type": "execute_result"
    }
   ],
   "source": [
    "rng.shape"
   ]
  },
  {
   "cell_type": "code",
   "execution_count": 83,
   "id": "07e338ba-e913-40bb-ba7c-480339ee18db",
   "metadata": {},
   "outputs": [
    {
     "data": {
      "text/plain": [
       "dtype('int32')"
      ]
     },
     "execution_count": 83,
     "metadata": {},
     "output_type": "execute_result"
    }
   ],
   "source": [
    "rng.dtype"
   ]
  },
  {
   "cell_type": "code",
   "execution_count": 87,
   "id": "45aa5e7d-b06b-40ad-b5cc-998318eef64e",
   "metadata": {},
   "outputs": [],
   "source": [
    "lspace = np.linspace(1,5,4)"
   ]
  },
  {
   "cell_type": "code",
   "execution_count": 90,
   "id": "37048163-ae84-4810-a9a2-ae31dca4f7d6",
   "metadata": {},
   "outputs": [
    {
     "data": {
      "text/plain": [
       "array([1.        , 2.33333333, 3.66666667, 5.        ])"
      ]
     },
     "execution_count": 90,
     "metadata": {},
     "output_type": "execute_result"
    }
   ],
   "source": [
    "lspace"
   ]
  },
  {
   "cell_type": "code",
   "execution_count": 92,
   "id": "d5b7f355-8ebb-4d2f-949f-6bace3f4b901",
   "metadata": {},
   "outputs": [],
   "source": [
    "emp_like = np.empty_like(lspace)"
   ]
  },
  {
   "cell_type": "code",
   "execution_count": 94,
   "id": "c4e399ff-d407-4869-8a43-f9b0cf5065c9",
   "metadata": {},
   "outputs": [
    {
     "data": {
      "text/plain": [
       "array([1.        , 2.33333333, 3.66666667, 5.        ])"
      ]
     },
     "execution_count": 94,
     "metadata": {},
     "output_type": "execute_result"
    }
   ],
   "source": [
    "emp_like"
   ]
  },
  {
   "cell_type": "code",
   "execution_count": 96,
   "id": "be20ce2a-5002-4593-83c9-1e693e205cf4",
   "metadata": {},
   "outputs": [],
   "source": [
    "ide = np.identity(99)"
   ]
  },
  {
   "cell_type": "code",
   "execution_count": 98,
   "id": "4c72ee70-21af-4139-8fb3-b177f1b9a3f7",
   "metadata": {},
   "outputs": [
    {
     "data": {
      "text/plain": [
       "array([[1., 0., 0., ..., 0., 0., 0.],\n",
       "       [0., 1., 0., ..., 0., 0., 0.],\n",
       "       [0., 0., 1., ..., 0., 0., 0.],\n",
       "       ...,\n",
       "       [0., 0., 0., ..., 1., 0., 0.],\n",
       "       [0., 0., 0., ..., 0., 1., 0.],\n",
       "       [0., 0., 0., ..., 0., 0., 1.]])"
      ]
     },
     "execution_count": 98,
     "metadata": {},
     "output_type": "execute_result"
    }
   ],
   "source": [
    "ide"
   ]
  },
  {
   "cell_type": "code",
   "execution_count": 100,
   "id": "ce80aac5-2774-4180-9b7b-44d62b30dc87",
   "metadata": {},
   "outputs": [
    {
     "data": {
      "text/plain": [
       "(99, 99)"
      ]
     },
     "execution_count": 100,
     "metadata": {},
     "output_type": "execute_result"
    }
   ],
   "source": [
    "ide.shape"
   ]
  },
  {
   "cell_type": "code",
   "execution_count": 102,
   "id": "2dc88615-1368-4cff-9828-6dca3cf7baeb",
   "metadata": {},
   "outputs": [],
   "source": [
    "emp =np.empty((4,6))"
   ]
  },
  {
   "cell_type": "code",
   "execution_count": 104,
   "id": "05ee37a0-5eb2-4f73-a02e-06d574b06af6",
   "metadata": {},
   "outputs": [
    {
     "data": {
      "text/plain": [
       "array([[1.01445681e-311, 1.01445682e-311, 1.01445682e-311,\n",
       "        1.01445702e-311, 1.01445702e-311, 1.01445702e-311],\n",
       "       [1.01445702e-311, 1.01445702e-311, 1.01445702e-311,\n",
       "        1.01445702e-311, 1.01445702e-311, 1.01445702e-311],\n",
       "       [1.01445702e-311, 1.01445702e-311, 1.01445702e-311,\n",
       "        1.01445702e-311, 1.01445702e-311, 1.01445702e-311],\n",
       "       [1.01445702e-311, 1.01445702e-311, 1.01445702e-311,\n",
       "        1.01445702e-311, 1.01445702e-311, 1.01445702e-311]])"
      ]
     },
     "execution_count": 104,
     "metadata": {},
     "output_type": "execute_result"
    }
   ],
   "source": [
    "emp"
   ]
  },
  {
   "cell_type": "code",
   "execution_count": 112,
   "id": "a6bc1cf3-da89-4550-a2d3-0d79cbbd1b99",
   "metadata": {},
   "outputs": [],
   "source": [
    "arr = np.arange(99)"
   ]
  },
  {
   "cell_type": "code",
   "execution_count": 114,
   "id": "f054bef0-3c78-4959-af1f-3b5f516904d8",
   "metadata": {},
   "outputs": [
    {
     "data": {
      "text/plain": [
       "array([ 0,  1,  2,  3,  4,  5,  6,  7,  8,  9, 10, 11, 12, 13, 14, 15, 16,\n",
       "       17, 18, 19, 20, 21, 22, 23, 24, 25, 26, 27, 28, 29, 30, 31, 32, 33,\n",
       "       34, 35, 36, 37, 38, 39, 40, 41, 42, 43, 44, 45, 46, 47, 48, 49, 50,\n",
       "       51, 52, 53, 54, 55, 56, 57, 58, 59, 60, 61, 62, 63, 64, 65, 66, 67,\n",
       "       68, 69, 70, 71, 72, 73, 74, 75, 76, 77, 78, 79, 80, 81, 82, 83, 84,\n",
       "       85, 86, 87, 88, 89, 90, 91, 92, 93, 94, 95, 96, 97, 98])"
      ]
     },
     "execution_count": 114,
     "metadata": {},
     "output_type": "execute_result"
    }
   ],
   "source": [
    "arr"
   ]
  },
  {
   "cell_type": "code",
   "execution_count": 116,
   "id": "bc5dccd5-97c5-4d1d-bdea-4fcf86bc474e",
   "metadata": {},
   "outputs": [
    {
     "data": {
      "text/plain": [
       "dtype('int32')"
      ]
     },
     "execution_count": 116,
     "metadata": {},
     "output_type": "execute_result"
    }
   ],
   "source": [
    "arr.dtype"
   ]
  },
  {
   "cell_type": "code",
   "execution_count": 118,
   "id": "70a5494f-7392-45bf-a702-7f2ecdf6ee8e",
   "metadata": {},
   "outputs": [
    {
     "data": {
      "text/plain": [
       "99"
      ]
     },
     "execution_count": 118,
     "metadata": {},
     "output_type": "execute_result"
    }
   ],
   "source": [
    "arr.size"
   ]
  },
  {
   "cell_type": "code",
   "execution_count": 120,
   "id": "d598b5f8-40d1-4c28-8aa5-c57431de7dcb",
   "metadata": {},
   "outputs": [
    {
     "data": {
      "text/plain": [
       "(99,)"
      ]
     },
     "execution_count": 120,
     "metadata": {},
     "output_type": "execute_result"
    }
   ],
   "source": [
    "arr.shape"
   ]
  },
  {
   "cell_type": "code",
   "execution_count": 128,
   "id": "0240e076-be75-48c1-94a4-29578c27c3c5",
   "metadata": {},
   "outputs": [
    {
     "data": {
      "text/plain": [
       "array([[ 0,  1,  2,  3,  4,  5,  6,  7,  8,  9, 10, 11, 12, 13, 14, 15,\n",
       "        16, 17, 18, 19, 20, 21, 22, 23, 24, 25, 26, 27, 28, 29, 30, 31,\n",
       "        32],\n",
       "       [33, 34, 35, 36, 37, 38, 39, 40, 41, 42, 43, 44, 45, 46, 47, 48,\n",
       "        49, 50, 51, 52, 53, 54, 55, 56, 57, 58, 59, 60, 61, 62, 63, 64,\n",
       "        65],\n",
       "       [66, 67, 68, 69, 70, 71, 72, 73, 74, 75, 76, 77, 78, 79, 80, 81,\n",
       "        82, 83, 84, 85, 86, 87, 88, 89, 90, 91, 92, 93, 94, 95, 96, 97,\n",
       "        98]])"
      ]
     },
     "execution_count": 128,
     "metadata": {},
     "output_type": "execute_result"
    }
   ],
   "source": [
    "arr.reshape(3,33)"
   ]
  },
  {
   "cell_type": "code",
   "execution_count": 140,
   "id": "1ce99d02-187f-4a93-8cee-3e2c39eaa27b",
   "metadata": {},
   "outputs": [],
   "source": [
    "arr = arr.ravel()"
   ]
  },
  {
   "cell_type": "code",
   "execution_count": 142,
   "id": "db18fb67-a6a0-47b9-9df1-e65b97bd592a",
   "metadata": {},
   "outputs": [
    {
     "data": {
      "text/plain": [
       "(99,)"
      ]
     },
     "execution_count": 142,
     "metadata": {},
     "output_type": "execute_result"
    }
   ],
   "source": [
    "arr.shape"
   ]
  },
  {
   "cell_type": "code",
   "execution_count": 144,
   "id": "a0745069-d911-4837-8b57-8f9f95e2c111",
   "metadata": {},
   "outputs": [
    {
     "data": {
      "text/plain": [
       "array([ 0,  1,  2,  3,  4,  5,  6,  7,  8,  9, 10, 11, 12, 13, 14, 15, 16,\n",
       "       17, 18, 19, 20, 21, 22, 23, 24, 25, 26, 27, 28, 29, 30, 31, 32, 33,\n",
       "       34, 35, 36, 37, 38, 39, 40, 41, 42, 43, 44, 45, 46, 47, 48, 49, 50,\n",
       "       51, 52, 53, 54, 55, 56, 57, 58, 59, 60, 61, 62, 63, 64, 65, 66, 67,\n",
       "       68, 69, 70, 71, 72, 73, 74, 75, 76, 77, 78, 79, 80, 81, 82, 83, 84,\n",
       "       85, 86, 87, 88, 89, 90, 91, 92, 93, 94, 95, 96, 97, 98])"
      ]
     },
     "execution_count": 144,
     "metadata": {},
     "output_type": "execute_result"
    }
   ],
   "source": [
    "arr"
   ]
  },
  {
   "cell_type": "markdown",
   "id": "1400c7c5-d38b-478e-aba0-e787b5ebd3b3",
   "metadata": {},
   "source": [
    "# n.axis"
   ]
  },
  {
   "cell_type": "code",
   "execution_count": 149,
   "id": "27bb0ea1-99c7-4818-93f1-b60b43631e0a",
   "metadata": {},
   "outputs": [],
   "source": [
    "x = [[1,2,3], [9,8,0], [4,6,7]]"
   ]
  },
  {
   "cell_type": "code",
   "execution_count": 151,
   "id": "d4888baf-b409-4390-a3db-94d12ecdcf3a",
   "metadata": {},
   "outputs": [],
   "source": [
    "ar = np.array(x)"
   ]
  },
  {
   "cell_type": "code",
   "execution_count": 153,
   "id": "c45b790a-cb74-447f-ae0f-09da25695db0",
   "metadata": {},
   "outputs": [
    {
     "data": {
      "text/plain": [
       "array([[1, 2, 3],\n",
       "       [9, 8, 0],\n",
       "       [4, 6, 7]])"
      ]
     },
     "execution_count": 153,
     "metadata": {},
     "output_type": "execute_result"
    }
   ],
   "source": [
    "ar"
   ]
  },
  {
   "cell_type": "code",
   "execution_count": 155,
   "id": "5f2a2a88-f9ea-42cd-b36b-8949f9649066",
   "metadata": {},
   "outputs": [
    {
     "data": {
      "text/plain": [
       "array([14, 16, 10])"
      ]
     },
     "execution_count": 155,
     "metadata": {},
     "output_type": "execute_result"
    }
   ],
   "source": [
    "ar.sum(axis=0)"
   ]
  },
  {
   "cell_type": "code",
   "execution_count": 157,
   "id": "c5e1f705-61a0-49a1-8afb-5add93e55961",
   "metadata": {},
   "outputs": [
    {
     "data": {
      "text/plain": [
       "array([ 6, 17, 17])"
      ]
     },
     "execution_count": 157,
     "metadata": {},
     "output_type": "execute_result"
    }
   ],
   "source": [
    "ar.sum(axis=1)"
   ]
  },
  {
   "cell_type": "code",
   "execution_count": 161,
   "id": "9c825a0b-e18b-4b07-9994-43f995f35a97",
   "metadata": {},
   "outputs": [
    {
     "data": {
      "text/plain": [
       "array([[1, 9, 4],\n",
       "       [2, 8, 6],\n",
       "       [3, 0, 7]])"
      ]
     },
     "execution_count": 161,
     "metadata": {},
     "output_type": "execute_result"
    }
   ],
   "source": [
    "ar.T"
   ]
  },
  {
   "cell_type": "code",
   "execution_count": 163,
   "id": "c5fbaa7a-75b5-4f8c-84b0-eeec11e73dc9",
   "metadata": {},
   "outputs": [
    {
     "data": {
      "text/plain": [
       "<numpy.flatiter at 0x1de0cd28f70>"
      ]
     },
     "execution_count": 163,
     "metadata": {},
     "output_type": "execute_result"
    }
   ],
   "source": [
    "ar.flat"
   ]
  },
  {
   "cell_type": "code",
   "execution_count": 175,
   "id": "a8aa4fb7-81f7-4b49-98b4-56bc9f039fd6",
   "metadata": {},
   "outputs": [
    {
     "name": "stdout",
     "output_type": "stream",
     "text": [
      "1\n",
      "2\n",
      "3\n",
      "9\n",
      "8\n",
      "0\n",
      "4\n",
      "6\n",
      "7\n"
     ]
    }
   ],
   "source": [
    "for item in ar.flat:\n",
    "    print(item)"
   ]
  },
  {
   "cell_type": "code",
   "execution_count": 181,
   "id": "737b6bb4-bc2c-4e06-9af5-f558a95c52ed",
   "metadata": {},
   "outputs": [
    {
     "data": {
      "text/plain": [
       "2"
      ]
     },
     "execution_count": 181,
     "metadata": {},
     "output_type": "execute_result"
    }
   ],
   "source": [
    "ar.ndim"
   ]
  },
  {
   "cell_type": "code",
   "execution_count": 183,
   "id": "4e979409-2095-467e-8ad9-02e9d812a4b4",
   "metadata": {},
   "outputs": [
    {
     "data": {
      "text/plain": [
       "9"
      ]
     },
     "execution_count": 183,
     "metadata": {},
     "output_type": "execute_result"
    }
   ],
   "source": [
    "ar.size"
   ]
  },
  {
   "cell_type": "code",
   "execution_count": 185,
   "id": "106c5396-3656-40ca-a411-18cad0af04c7",
   "metadata": {},
   "outputs": [
    {
     "data": {
      "text/plain": [
       "(3, 3)"
      ]
     },
     "execution_count": 185,
     "metadata": {},
     "output_type": "execute_result"
    }
   ],
   "source": [
    "ar.shape"
   ]
  },
  {
   "cell_type": "code",
   "execution_count": 187,
   "id": "b3701753-38e3-4081-bc51-036e9b0026c2",
   "metadata": {},
   "outputs": [
    {
     "data": {
      "text/plain": [
       "36"
      ]
     },
     "execution_count": 187,
     "metadata": {},
     "output_type": "execute_result"
    }
   ],
   "source": [
    "ar.nbytes"
   ]
  },
  {
   "cell_type": "code",
   "execution_count": 189,
   "id": "623765ba-958e-403a-a2cd-1b1940bca25e",
   "metadata": {},
   "outputs": [],
   "source": [
    "one = np.array ([1,2,3,5,7,9,])"
   ]
  },
  {
   "cell_type": "code",
   "execution_count": 193,
   "id": "d287899b-b8b1-4191-99b3-c3af70ba610d",
   "metadata": {},
   "outputs": [
    {
     "data": {
      "text/plain": [
       "5"
      ]
     },
     "execution_count": 193,
     "metadata": {},
     "output_type": "execute_result"
    }
   ],
   "source": [
    "one.argmax()"
   ]
  },
  {
   "cell_type": "code",
   "execution_count": 195,
   "id": "096bb4fd-24b3-4499-9be2-169cb9ae9eb8",
   "metadata": {},
   "outputs": [
    {
     "data": {
      "text/plain": [
       "0"
      ]
     },
     "execution_count": 195,
     "metadata": {},
     "output_type": "execute_result"
    }
   ],
   "source": [
    "one.argmin()"
   ]
  },
  {
   "cell_type": "code",
   "execution_count": 201,
   "id": "2e8dbb57-d195-49c5-b341-3b77a6874124",
   "metadata": {},
   "outputs": [
    {
     "data": {
      "text/plain": [
       "array([0, 1, 2, 3, 4, 5], dtype=int64)"
      ]
     },
     "execution_count": 201,
     "metadata": {},
     "output_type": "execute_result"
    }
   ],
   "source": [
    "one.argsort()"
   ]
  },
  {
   "cell_type": "code",
   "execution_count": 203,
   "id": "e6cb85bc-cc82-484f-9d04-2d5910f67e61",
   "metadata": {},
   "outputs": [
    {
     "data": {
      "text/plain": [
       "array([[1, 2, 3],\n",
       "       [9, 8, 0],\n",
       "       [4, 6, 7]])"
      ]
     },
     "execution_count": 203,
     "metadata": {},
     "output_type": "execute_result"
    }
   ],
   "source": [
    "ar"
   ]
  },
  {
   "cell_type": "code",
   "execution_count": 205,
   "id": "6002b2d3-572a-404c-a02c-e7d03263e099",
   "metadata": {},
   "outputs": [
    {
     "data": {
      "text/plain": [
       "5"
      ]
     },
     "execution_count": 205,
     "metadata": {},
     "output_type": "execute_result"
    }
   ],
   "source": [
    "ar.argmin()"
   ]
  },
  {
   "cell_type": "code",
   "execution_count": 207,
   "id": "7d8ac991-05af-49cd-bb91-0d2b4184b180",
   "metadata": {},
   "outputs": [
    {
     "data": {
      "text/plain": [
       "3"
      ]
     },
     "execution_count": 207,
     "metadata": {},
     "output_type": "execute_result"
    }
   ],
   "source": [
    "ar.argmax()"
   ]
  },
  {
   "cell_type": "code",
   "execution_count": 209,
   "id": "324bde93-8e81-448f-98d8-5fece187a51c",
   "metadata": {},
   "outputs": [
    {
     "data": {
      "text/plain": [
       "array([1, 1, 2], dtype=int64)"
      ]
     },
     "execution_count": 209,
     "metadata": {},
     "output_type": "execute_result"
    }
   ],
   "source": [
    "ar.argmax(axis=0)"
   ]
  },
  {
   "cell_type": "code",
   "execution_count": 219,
   "id": "e17808c7-89aa-45d0-8a53-8fc5f5c52f6f",
   "metadata": {},
   "outputs": [
    {
     "data": {
      "text/plain": [
       "array([0, 0, 1], dtype=int64)"
      ]
     },
     "execution_count": 219,
     "metadata": {},
     "output_type": "execute_result"
    }
   ],
   "source": [
    "ar.argmin(axis=0)"
   ]
  },
  {
   "cell_type": "code",
   "execution_count": 221,
   "id": "488120ae-058c-46d8-8388-caa5cd1c98c4",
   "metadata": {},
   "outputs": [
    {
     "data": {
      "text/plain": [
       "array([0, 2, 0], dtype=int64)"
      ]
     },
     "execution_count": 221,
     "metadata": {},
     "output_type": "execute_result"
    }
   ],
   "source": [
    "ar.argmin(axis=1)"
   ]
  },
  {
   "cell_type": "code",
   "execution_count": 227,
   "id": "13aa0782-fcb2-4ba2-8051-adefd29173e9",
   "metadata": {},
   "outputs": [
    {
     "data": {
      "text/plain": [
       "array([[0, 0, 1],\n",
       "       [2, 2, 0],\n",
       "       [1, 1, 2]], dtype=int64)"
      ]
     },
     "execution_count": 227,
     "metadata": {},
     "output_type": "execute_result"
    }
   ],
   "source": [
    "ar.argsort(axis=0)"
   ]
  },
  {
   "cell_type": "code",
   "execution_count": 229,
   "id": "1ee9fef7-d733-40e8-80bf-78fc4df134e5",
   "metadata": {},
   "outputs": [
    {
     "data": {
      "text/plain": [
       "array([[0, 1, 2],\n",
       "       [2, 1, 0],\n",
       "       [0, 1, 2]], dtype=int64)"
      ]
     },
     "execution_count": 229,
     "metadata": {},
     "output_type": "execute_result"
    }
   ],
   "source": [
    "ar.argsort(axis=1)"
   ]
  },
  {
   "cell_type": "code",
   "execution_count": 231,
   "id": "f5f8ecb0-31c4-4401-9f15-0ceef7bf35f0",
   "metadata": {},
   "outputs": [
    {
     "data": {
      "text/plain": [
       "array([1, 2, 3, 9, 8, 0, 4, 6, 7])"
      ]
     },
     "execution_count": 231,
     "metadata": {},
     "output_type": "execute_result"
    }
   ],
   "source": [
    "ar.ravel()"
   ]
  },
  {
   "cell_type": "code",
   "execution_count": 233,
   "id": "b92105ed-0125-4093-b023-241bdc0df72c",
   "metadata": {},
   "outputs": [
    {
     "data": {
      "text/plain": [
       "array([[1],\n",
       "       [2],\n",
       "       [3],\n",
       "       [9],\n",
       "       [8],\n",
       "       [0],\n",
       "       [4],\n",
       "       [6],\n",
       "       [7]])"
      ]
     },
     "execution_count": 233,
     "metadata": {},
     "output_type": "execute_result"
    }
   ],
   "source": [
    "ar.reshape(9,1)"
   ]
  },
  {
   "cell_type": "code",
   "execution_count": 241,
   "id": "918e2756-a606-40fe-ab9d-bf624e68ee22",
   "metadata": {},
   "outputs": [
    {
     "data": {
      "text/plain": [
       "array([1, 2, 3, 9, 8, 0, 4, 6, 7])"
      ]
     },
     "execution_count": 241,
     "metadata": {},
     "output_type": "execute_result"
    }
   ],
   "source": [
    "ar.reshape(9)"
   ]
  },
  {
   "cell_type": "code",
   "execution_count": 243,
   "id": "162b4a86-b1a2-49bc-95cc-aef1652e65cf",
   "metadata": {},
   "outputs": [
    {
     "data": {
      "text/plain": [
       "array([[1, 2, 3],\n",
       "       [9, 8, 0],\n",
       "       [4, 6, 7]])"
      ]
     },
     "execution_count": 243,
     "metadata": {},
     "output_type": "execute_result"
    }
   ],
   "source": [
    "ar"
   ]
  },
  {
   "cell_type": "code",
   "execution_count": 245,
   "id": "93a199fc-de23-443e-bc87-8057e10fd9fa",
   "metadata": {},
   "outputs": [],
   "source": [
    "ar2 = np.array([[3,2,1,],[4,6,5],[9,0,9]])"
   ]
  },
  {
   "cell_type": "code",
   "execution_count": 247,
   "id": "d7106682-dc0e-4c53-874d-7389ee18f664",
   "metadata": {},
   "outputs": [
    {
     "data": {
      "text/plain": [
       "array([[3, 2, 1],\n",
       "       [4, 6, 5],\n",
       "       [9, 0, 9]])"
      ]
     },
     "execution_count": 247,
     "metadata": {},
     "output_type": "execute_result"
    }
   ],
   "source": [
    "ar2"
   ]
  },
  {
   "cell_type": "code",
   "execution_count": 249,
   "id": "87a9b5a0-cc48-4eac-a3cd-d80affce956d",
   "metadata": {},
   "outputs": [
    {
     "data": {
      "text/plain": [
       "array([[ 4,  4,  4],\n",
       "       [13, 14,  5],\n",
       "       [13,  6, 16]])"
      ]
     },
     "execution_count": 249,
     "metadata": {},
     "output_type": "execute_result"
    }
   ],
   "source": [
    "ar+ar2"
   ]
  },
  {
   "cell_type": "code",
   "execution_count": 251,
   "id": "7abb203b-c161-4772-b864-1d29466656bb",
   "metadata": {},
   "outputs": [
    {
     "data": {
      "text/plain": [
       "array([[ 3,  4,  3],\n",
       "       [36, 48,  0],\n",
       "       [36,  0, 63]])"
      ]
     },
     "execution_count": 251,
     "metadata": {},
     "output_type": "execute_result"
    }
   ],
   "source": [
    "ar*ar2"
   ]
  },
  {
   "cell_type": "code",
   "execution_count": 253,
   "id": "e94ddf50-4a21-4e2f-b6d2-bc125a29d1f4",
   "metadata": {},
   "outputs": [
    {
     "name": "stderr",
     "output_type": "stream",
     "text": [
      "C:\\Users\\amolj\\AppData\\Local\\Temp\\ipykernel_12640\\2166607628.py:1: RuntimeWarning: divide by zero encountered in divide\n",
      "  ar/ar2\n"
     ]
    },
    {
     "data": {
      "text/plain": [
       "array([[0.33333333, 1.        , 3.        ],\n",
       "       [2.25      , 1.33333333, 0.        ],\n",
       "       [0.44444444,        inf, 0.77777778]])"
      ]
     },
     "execution_count": 253,
     "metadata": {},
     "output_type": "execute_result"
    }
   ],
   "source": [
    "ar/ar2"
   ]
  },
  {
   "cell_type": "code",
   "execution_count": 255,
   "id": "e08e0970-c957-4cae-a9ad-cadbd6907ad2",
   "metadata": {},
   "outputs": [
    {
     "data": {
      "text/plain": [
       "array([[-2,  0,  2],\n",
       "       [ 5,  2, -5],\n",
       "       [-5,  6, -2]])"
      ]
     },
     "execution_count": 255,
     "metadata": {},
     "output_type": "execute_result"
    }
   ],
   "source": [
    "ar-ar2"
   ]
  },
  {
   "cell_type": "code",
   "execution_count": 257,
   "id": "b6c25b98-930b-4997-b67e-577c62318f84",
   "metadata": {},
   "outputs": [
    {
     "name": "stderr",
     "output_type": "stream",
     "text": [
      "C:\\Users\\amolj\\AppData\\Local\\Temp\\ipykernel_12640\\2693754613.py:1: RuntimeWarning: divide by zero encountered in remainder\n",
      "  ar%ar2\n"
     ]
    },
    {
     "data": {
      "text/plain": [
       "array([[1, 0, 0],\n",
       "       [1, 2, 0],\n",
       "       [4, 0, 7]])"
      ]
     },
     "execution_count": 257,
     "metadata": {},
     "output_type": "execute_result"
    }
   ],
   "source": [
    "ar%ar2"
   ]
  },
  {
   "cell_type": "code",
   "execution_count": 261,
   "id": "b18fda16-03b0-4fa9-a669-7926395e5356",
   "metadata": {},
   "outputs": [
    {
     "data": {
      "text/plain": [
       "array([[1, 2, 3],\n",
       "       [9, 8, 0],\n",
       "       [4, 6, 7]])"
      ]
     },
     "execution_count": 261,
     "metadata": {},
     "output_type": "execute_result"
    }
   ],
   "source": [
    "ar"
   ]
  },
  {
   "cell_type": "code",
   "execution_count": 265,
   "id": "522d41a6-ec17-4263-9200-cb328abc6db5",
   "metadata": {},
   "outputs": [
    {
     "data": {
      "text/plain": [
       "9"
      ]
     },
     "execution_count": 265,
     "metadata": {},
     "output_type": "execute_result"
    }
   ],
   "source": [
    "ar.max()"
   ]
  },
  {
   "cell_type": "code",
   "execution_count": 267,
   "id": "2c95edc2-cfe8-47f5-ac06-f30c767a4e08",
   "metadata": {},
   "outputs": [
    {
     "data": {
      "text/plain": [
       "(array([1, 1, 2, 2], dtype=int64), array([0, 1, 1, 2], dtype=int64))"
      ]
     },
     "execution_count": 267,
     "metadata": {},
     "output_type": "execute_result"
    }
   ],
   "source": [
    "np.where(ar>5)"
   ]
  },
  {
   "cell_type": "code",
   "execution_count": 271,
   "id": "62ed4a45-46c2-4066-bc93-1fb1ee409929",
   "metadata": {},
   "outputs": [
    {
     "data": {
      "text/plain": [
       "tuple"
      ]
     },
     "execution_count": 271,
     "metadata": {},
     "output_type": "execute_result"
    }
   ],
   "source": [
    "type(np.where(ar>5))"
   ]
  },
  {
   "cell_type": "code",
   "execution_count": 273,
   "id": "831b985b-e558-4a09-9029-a26223deb6c7",
   "metadata": {},
   "outputs": [
    {
     "data": {
      "text/plain": [
       "8"
      ]
     },
     "execution_count": 273,
     "metadata": {},
     "output_type": "execute_result"
    }
   ],
   "source": [
    "np.count_nonzero(ar)"
   ]
  },
  {
   "cell_type": "code",
   "execution_count": 275,
   "id": "25fc2acf-c4ee-4e42-afc0-23a31ea112ff",
   "metadata": {},
   "outputs": [
    {
     "data": {
      "text/plain": [
       "(array([0, 0, 0, 1, 1, 2, 2, 2], dtype=int64),\n",
       " array([0, 1, 2, 0, 1, 0, 1, 2], dtype=int64))"
      ]
     },
     "execution_count": 275,
     "metadata": {},
     "output_type": "execute_result"
    }
   ],
   "source": [
    "np.nonzero(ar)"
   ]
  },
  {
   "cell_type": "code",
   "execution_count": 277,
   "id": "d017c639-da93-427a-9b97-445cb4a4e201",
   "metadata": {},
   "outputs": [],
   "source": [
    "ar[1,2] = 0"
   ]
  },
  {
   "cell_type": "code",
   "execution_count": 279,
   "id": "28f6d99a-9d2b-417d-8536-de4a91c299b0",
   "metadata": {},
   "outputs": [
    {
     "data": {
      "text/plain": [
       "(array([0, 0, 0, 1, 1, 2, 2, 2], dtype=int64),\n",
       " array([0, 1, 2, 0, 1, 0, 1, 2], dtype=int64))"
      ]
     },
     "execution_count": 279,
     "metadata": {},
     "output_type": "execute_result"
    }
   ],
   "source": [
    "np.nonzero(ar)"
   ]
  },
  {
   "cell_type": "code",
   "execution_count": 281,
   "id": "25fa3bbe-dd30-417b-86c7-a4be3407ca50",
   "metadata": {},
   "outputs": [],
   "source": [
    "import sys"
   ]
  },
  {
   "cell_type": "code",
   "execution_count": 283,
   "id": "6b01f014-248e-45f5-9be8-654bd73ffdbd",
   "metadata": {},
   "outputs": [],
   "source": [
    "py_ar = [0,9,8,7,6]"
   ]
  },
  {
   "cell_type": "code",
   "execution_count": 287,
   "id": "bf045d15-f356-4bce-9fdb-818b5a3fc24b",
   "metadata": {},
   "outputs": [],
   "source": [
    "np_ar = np.array(py_ar)"
   ]
  },
  {
   "cell_type": "code",
   "execution_count": 289,
   "id": "7c3fb79c-28bd-47ba-b0d0-9532d1b199d6",
   "metadata": {},
   "outputs": [
    {
     "data": {
      "text/plain": [
       "140"
      ]
     },
     "execution_count": 289,
     "metadata": {},
     "output_type": "execute_result"
    }
   ],
   "source": [
    "sys.getsizeof(1) * len(py_ar)"
   ]
  },
  {
   "cell_type": "code",
   "execution_count": 291,
   "id": "ce226024-93e1-435d-b5fb-d461f0204c65",
   "metadata": {},
   "outputs": [
    {
     "data": {
      "text/plain": [
       "20"
      ]
     },
     "execution_count": 291,
     "metadata": {},
     "output_type": "execute_result"
    }
   ],
   "source": [
    "np_ar.itemsize * np_ar.size"
   ]
  },
  {
   "cell_type": "code",
   "execution_count": 293,
   "id": "60afc20e-2f53-48aa-950e-6d61ddf3dcb3",
   "metadata": {},
   "outputs": [
    {
     "data": {
      "text/plain": [
       "[0, 9, 8, 7, 6]"
      ]
     },
     "execution_count": 293,
     "metadata": {},
     "output_type": "execute_result"
    }
   ],
   "source": [
    "np_ar.tolist()"
   ]
  },
  {
   "cell_type": "code",
   "execution_count": null,
   "id": "1bdfaf5c-621f-4752-ac92-020b9cc8b0cf",
   "metadata": {},
   "outputs": [],
   "source": []
  }
 ],
 "metadata": {
  "kernelspec": {
   "display_name": "Python 3 (ipykernel)",
   "language": "python",
   "name": "python3"
  },
  "language_info": {
   "codemirror_mode": {
    "name": "ipython",
    "version": 3
   },
   "file_extension": ".py",
   "mimetype": "text/x-python",
   "name": "python",
   "nbconvert_exporter": "python",
   "pygments_lexer": "ipython3",
   "version": "3.12.4"
  }
 },
 "nbformat": 4,
 "nbformat_minor": 5
}
